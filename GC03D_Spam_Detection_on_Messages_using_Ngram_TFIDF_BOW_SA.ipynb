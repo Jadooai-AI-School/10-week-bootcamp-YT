{
  "cells": [
    {
      "cell_type": "code",
      "source": [
        "from sklearn.feature_extraction.text import TfidfVectorizer\n",
        "from sklearn.model_selection import train_test_split\n",
        "from sklearn.naive_bayes import MultinomialNB\n",
        "from sklearn.metrics import accuracy_score\n",
        "import pandas as pd\n",
        "import matplotlib.pyplot as plt\n",
        "import seaborn as sns\n",
        "\n",
        "# Sample dataset\n",
        "messages = [\n",
        "    \"Win a free iPhone now!\",\n",
        "    \"Meeting at 5 PM today\",\n",
        "    \"Congratulations! You won\",\n",
        "    \"You won a coupon\",\n",
        "    \"Let's catch up soon\"\n",
        "]\n",
        "labels = [\"spam\", \"ham\", \"spam\", \"spam\", \"ham\"]\n",
        "\n",
        "# Step 1: Convert text to TF-IDF representation using N-Grams (bigrams and trigrams)\n",
        "tfidf_vectorizer = TfidfVectorizer(ngram_range=(3, 3))  # Consider unigrams and bigrams\n",
        "X = tfidf_vectorizer.fit_transform(messages)\n",
        "\n",
        "# Step 2: Train a Naive Bayes classifier\n",
        "X_train, X_test, y_train, y_test = train_test_split(X, labels, test_size=0.7, random_state=42)\n",
        "model = MultinomialNB()\n",
        "model.fit(X_train, y_train)\n",
        "\n",
        "# Step 3: Make predictions and evaluate\n",
        "y_pred = model.predict(X_test)\n",
        "print(\"Accuracy:\", accuracy_score(y_test, y_pred))\n",
        "\n",
        "# Optional: Display feature names (n-grams) and corresponding TF-IDF values for analysis\n",
        "feature_names = tfidf_vectorizer.get_feature_names_out()\n",
        "tfidf_values = X.toarray()\n",
        "\n",
        "print(\"\\nTF-IDF Values for each message (with N-Grams):\")\n",
        "for i, message in enumerate(messages):\n",
        "    print(f\"\\nMessage: {message}\")\n",
        "    for word, value in zip(feature_names, tfidf_values[i]):\n",
        "        if value > 0:\n",
        "            print(f\"{word}: {value:.3f}\")\n"
      ],
      "metadata": {
        "id": "gjYx1dpfieAC",
        "outputId": "d85dacfb-ee2d-4879-cf22-06642843bca4",
        "colab": {
          "base_uri": "https://localhost:8080/"
        }
      },
      "execution_count": null,
      "outputs": [
        {
          "output_type": "stream",
          "name": "stdout",
          "text": [
            "Accuracy: 0.5\n",
            "\n",
            "TF-IDF Values for each message (with N-Grams):\n",
            "\n",
            "Message: Win a free iPhone now!\n",
            "free iphone now: 0.707\n",
            "win free iphone: 0.707\n",
            "\n",
            "Message: Meeting at 5 PM today\n",
            "at pm today: 0.707\n",
            "meeting at pm: 0.707\n",
            "\n",
            "Message: Congratulations! You won\n",
            "congratulations you won: 1.000\n",
            "\n",
            "Message: You won a coupon\n",
            "you won coupon: 1.000\n",
            "\n",
            "Message: Let's catch up soon\n",
            "catch up soon: 0.707\n",
            "let catch up: 0.707\n"
          ]
        }
      ]
    },
    {
      "cell_type": "code",
      "source": [
        "from sklearn.feature_extraction.text import TfidfVectorizer\n",
        "from sklearn.model_selection import train_test_split\n",
        "from sklearn.naive_bayes import MultinomialNB\n",
        "from sklearn.metrics import accuracy_score\n",
        "import pandas as pd\n",
        "import matplotlib.pyplot as plt\n",
        "import seaborn as sns\n",
        "\n",
        "# Sample dataset\n",
        "messages = [\n",
        "    \"Win a free iPhone now!\",\n",
        "    \"Meeting at 5 PM today\",\n",
        "    \"Congratulations! You won\",\n",
        "    \"You won a coupon\",\n",
        "    \"Let's catch up soon\"\n",
        "]\n",
        "labels = [\"spam\", \"ham\", \"spam\", \"spam\", \"ham\"]\n",
        "\n",
        "# Step 1: Convert text to TF-IDF representation\n",
        "tfidf_vectorizer = TfidfVectorizer()\n",
        "X = tfidf_vectorizer.fit_transform(messages)\n",
        "\n",
        "# Step 2: Train a Naive Bayes classifier\n",
        "X_train, X_test, y_train, y_test = train_test_split(X, labels, test_size=0.7, random_state=42)\n",
        "model = MultinomialNB()\n",
        "model.fit(X_train, y_train)\n",
        "\n",
        "# Step 3: Make predictions and evaluate\n",
        "y_pred = model.predict(X_test)\n",
        "print(\"Accuracy:\", accuracy_score(y_test, y_pred))\n",
        "\n",
        "# Optional: Display feature names and corresponding TF-IDF values for analysis\n",
        "feature_names = tfidf_vectorizer.get_feature_names_out()\n",
        "tfidf_values = X.toarray()\n",
        "\n",
        "print(\"\\nTF-IDF Values for each message:\")\n",
        "for i, message in enumerate(messages):\n",
        "    print(f\"\\nMessage: {message}\")\n",
        "    for word, value in zip(feature_names, tfidf_values[i]):\n",
        "        if value > 0:\n",
        "            print(f\"{word}: {value:.3f}\")\n"
      ],
      "metadata": {
        "colab": {
          "base_uri": "https://localhost:8080/"
        },
        "id": "1LyWw-Q1VFjY",
        "outputId": "10dcd7b2-4569-48bf-f459-7451e6b19c03"
      },
      "execution_count": null,
      "outputs": [
        {
          "output_type": "stream",
          "name": "stdout",
          "text": [
            "Accuracy: 0.5\n",
            "\n",
            "TF-IDF Values for each message:\n",
            "\n",
            "Message: Win a free iPhone now!\n",
            "free: 0.500\n",
            "iphone: 0.500\n",
            "now: 0.500\n",
            "win: 0.500\n",
            "\n",
            "Message: Meeting at 5 PM today\n",
            "at: 0.500\n",
            "meeting: 0.500\n",
            "pm: 0.500\n",
            "today: 0.500\n",
            "\n",
            "Message: Congratulations! You won\n",
            "congratulations: 0.659\n",
            "won: 0.532\n",
            "you: 0.532\n",
            "\n",
            "Message: You won a coupon\n",
            "coupon: 0.659\n",
            "won: 0.532\n",
            "you: 0.532\n",
            "\n",
            "Message: Let's catch up soon\n",
            "catch: 0.500\n",
            "let: 0.500\n",
            "soon: 0.500\n",
            "up: 0.500\n"
          ]
        }
      ]
    },
    {
      "cell_type": "code",
      "source": [
        "from sklearn.feature_extraction.text import CountVectorizer\n",
        "from sklearn.model_selection import train_test_split\n",
        "from sklearn.naive_bayes import MultinomialNB\n",
        "from sklearn.metrics import accuracy_score\n",
        "import pandas as pd\n",
        "import matplotlib.pyplot as plt\n",
        "import seaborn as sns\n",
        "\n",
        "# Sample dataset\n",
        "messages = [\n",
        "    \"Win a free iPhone now!\",\n",
        "    \"Meeting at 5 PM today\",\n",
        "    \"Congratulations! You won\",\n",
        "    \"You won a coupon\",\n",
        "    \"Let's catch catch up soon\"\n",
        "\n",
        "]\n",
        "labels = [\"spam\", \"ham\", \"spam\", \"spam\",\"ham\"]\n",
        "\n",
        "# Step 1: Convert text to Bag of Words representation\n",
        "vectorizer = CountVectorizer()\n",
        "X = vectorizer.fit_transform(messages)\n",
        "\n",
        "# Step 2: Train a Naive Bayes classifier\n",
        "X_train, X_test, y_train, y_test = train_test_split(X, labels, test_size=0.1)\n",
        "model = MultinomialNB()\n",
        "model.fit(X_train, y_train)\n",
        "\n",
        "# Step 3: Make predictions and evaluate\n",
        "y_pred = model.predict(X_test)\n",
        "print(\"Accuracy:\", accuracy_score(y_test, y_pred))\n"
      ],
      "metadata": {
        "colab": {
          "base_uri": "https://localhost:8080/"
        },
        "id": "bpGR0F_INwkb",
        "outputId": "2e1702e5-f58b-4880-a818-b8f072cdca9f"
      },
      "execution_count": null,
      "outputs": [
        {
          "output_type": "stream",
          "name": "stdout",
          "text": [
            "Accuracy: 1.0\n"
          ]
        }
      ]
    },
    {
      "cell_type": "code",
      "source": [
        "# Step 1: Convert text to Bag of Words representation\n",
        "vectorizer = CountVectorizer()\n",
        "X = vectorizer.fit_transform(messages)"
      ],
      "metadata": {
        "id": "4WyoXtFVOYaA"
      },
      "execution_count": null,
      "outputs": []
    },
    {
      "cell_type": "code",
      "source": [
        "#More details on Step 1:\n",
        "#Step 1a: Convert BoW to a DataFrame for easy visualization\n",
        "bow_df = pd.DataFrame(X.toarray(), columns=vectorizer.get_feature_names_out())\n",
        "\n",
        "# Step 1b: Add the original messages and labels for context\n",
        "bow_df['Message'] = messages\n",
        "bow_df['Label'] = labels\n",
        "\n",
        "# Step 1c: Rearrange columns to show message and label first\n",
        "bow_df = bow_df[['Message', 'Label'] + list(vectorizer.get_feature_names_out())]\n",
        "\n",
        "# Step 1d: Print the Bag of Words DataFrame\n",
        "print(\"Bag of Words Representation:\")\n",
        "print(bow_df)"
      ],
      "metadata": {
        "colab": {
          "base_uri": "https://localhost:8080/"
        },
        "id": "f-jcFFrSOleX",
        "outputId": "e5edbed9-9de5-49c0-c3bc-7b6152612178"
      },
      "execution_count": null,
      "outputs": [
        {
          "output_type": "stream",
          "name": "stdout",
          "text": [
            "Bag of Words Representation:\n",
            "                     Message Label  at  catch  congratulations  coupon  free  \\\n",
            "0     Win a free iPhone now!  spam   0      0                0       0     1   \n",
            "1      Meeting at 5 PM today   ham   1      0                0       0     0   \n",
            "2   Congratulations! You won  spam   0      0                1       0     0   \n",
            "3           You won a coupon  spam   0      0                0       1     0   \n",
            "4  Let's catch catch up soon   ham   0      2                0       0     0   \n",
            "\n",
            "   iphone  let  meeting  now  pm  soon  today  up  win  won  you  \n",
            "0       1    0        0    1   0     0      0   0    1    0    0  \n",
            "1       0    0        1    0   1     0      1   0    0    0    0  \n",
            "2       0    0        0    0   0     0      0   0    0    1    1  \n",
            "3       0    0        0    0   0     0      0   0    0    1    1  \n",
            "4       0    1        0    0   0     1      0   1    0    0    0  \n"
          ]
        }
      ]
    },
    {
      "cell_type": "code",
      "source": [
        "# Step 2: Train a Naive Bayes classifier\n",
        "X_train, X_test, y_train, y_test = train_test_split(X, labels, test_size=0.1)\n"
      ],
      "metadata": {
        "id": "68rEVAupPtvr"
      },
      "execution_count": null,
      "outputs": []
    },
    {
      "cell_type": "code",
      "source": [
        "##More details on Step 2:\n",
        "#Step 2a: Split the data into training and testing sets (we will visualize only the training set)\n",
        "X_train, X_test, y_train, y_test = train_test_split(X, labels, test_size=0.1, random_state=42)\n",
        "\n",
        "# Step 2b: Convert X_train from a sparse matrix to a dense matrix and visualize it\n",
        "X_train_dense = X_train.toarray()\n",
        "feature_names = vectorizer.get_feature_names_out()\n",
        "\n",
        "# Step 2c: Create a DataFrame for easier visualization\n",
        "X_train_df = pd.DataFrame(X_train_dense, columns=feature_names)\n",
        "\n",
        "# Add y_train labels to the DataFrame for context\n",
        "X_train_df['Label'] = y_train\n",
        "\n",
        "# Print the DataFrame\n",
        "print(\"X_train with Labels:\")\n",
        "print(X_train_df)\n"
      ],
      "metadata": {
        "colab": {
          "base_uri": "https://localhost:8080/"
        },
        "id": "nVHnPE2IPttS",
        "outputId": "ee4b838e-f02a-4c5b-f9b2-b0ae8b614c77"
      },
      "execution_count": null,
      "outputs": [
        {
          "output_type": "stream",
          "name": "stdout",
          "text": [
            "X_train with Labels:\n",
            "   at  catch  congratulations  coupon  free  iphone  let  meeting  now  pm  \\\n",
            "0   0      2                0       0     0       0    1        0    0   0   \n",
            "1   0      0                1       0     0       0    0        0    0   0   \n",
            "2   0      0                0       0     1       1    0        0    1   0   \n",
            "3   0      0                0       1     0       0    0        0    0   0   \n",
            "\n",
            "   soon  today  up  win  won  you Label  \n",
            "0     1      0   1    0    0    0   ham  \n",
            "1     0      0   0    0    1    1  spam  \n",
            "2     0      0   0    1    0    0  spam  \n",
            "3     0      0   0    0    1    1  spam  \n"
          ]
        }
      ]
    },
    {
      "cell_type": "code",
      "source": [
        "##More details on Step 2:\n",
        "#Step 2a: Split the data into training and testing sets (we will visualize only the training set)\n",
        "X_train, X_test, y_train, y_test = train_test_split(X, labels, test_size=0.5, random_state=42)\n",
        "\n",
        "# Step 2b: Convert X_train from a sparse matrix to a dense matrix and visualize it\n",
        "X_test_dense = X_test.toarray()\n",
        "feature_names = vectorizer.get_feature_names_out()\n",
        "\n",
        "# Step 2c: Create a DataFrame for easier visualization\n",
        "X_test_df = pd.DataFrame(X_test_dense, columns=feature_names)\n",
        "\n",
        "# Add y_train labels to the DataFrame for context\n",
        "X_test_df['Label'] = y_test\n",
        "\n",
        "# Print the DataFrame\n",
        "print(\"X_test with Labels:\")\n",
        "print(X_test_df)"
      ],
      "metadata": {
        "colab": {
          "base_uri": "https://localhost:8080/"
        },
        "id": "S-BSnWM-sJ9H",
        "outputId": "5cc11645-8bc6-4595-f0d7-8f7dd3a6862d"
      },
      "execution_count": null,
      "outputs": [
        {
          "output_type": "stream",
          "name": "stdout",
          "text": [
            "X_test with Labels:\n",
            "   at  catch  congratulations  coupon  free  iphone  let  meeting  now  pm  \\\n",
            "0   1      0                0       0     0       0    0        1    0   1   \n",
            "1   0      2                0       0     0       0    1        0    0   0   \n",
            "2   0      0                1       0     0       0    0        0    0   0   \n",
            "\n",
            "   soon  today  up  win  won  you Label  \n",
            "0     0      1   0    0    0    0   ham  \n",
            "1     1      0   1    0    0    0   ham  \n",
            "2     0      0   0    0    1    1  spam  \n"
          ]
        }
      ]
    },
    {
      "cell_type": "code",
      "source": [
        "new_messages = [\n",
        "    \" won a iphone5?\"\n",
        "]\n",
        "\n",
        "# Step 4: Transform the new messages to the BoW format\n",
        "X_new = vectorizer.transform(new_messages)\n",
        "\n",
        "# Step 5: Predict the labels for new messages\n",
        "predictions = model.predict(X_new)\n",
        "\n",
        "# Step 6: Print the predictions\n",
        "for message, prediction in zip(new_messages, predictions):\n",
        "    print(f\"Message: {message}\\nPrediction: {prediction}\\n\")"
      ],
      "metadata": {
        "colab": {
          "base_uri": "https://localhost:8080/"
        },
        "id": "Ih9Y4p_AXNNx",
        "outputId": "ed6553c2-1bbc-4cc7-a143-08d9f2c8ce17"
      },
      "execution_count": null,
      "outputs": [
        {
          "output_type": "stream",
          "name": "stdout",
          "text": [
            "Message:  won a iphone5?\n",
            "Prediction: spam\n",
            "\n"
          ]
        }
      ]
    },
    {
      "cell_type": "code",
      "source": [],
      "metadata": {
        "id": "LXAd5Bdad9dO"
      },
      "execution_count": null,
      "outputs": []
    },
    {
      "cell_type": "markdown",
      "metadata": {
        "id": "lQrnKoK6J3F2"
      },
      "source": [
        "<a id=\"importing-the-relevant-libraries\"></a>\n",
        "### Detailed code on Spam Classifier using larger dataset"
      ]
    },
    {
      "cell_type": "code",
      "execution_count": null,
      "metadata": {
        "id": "5KokFw07J3F3"
      },
      "outputs": [],
      "source": [
        "import matplotlib.pyplot as plt\n",
        "import nltk\n",
        "import numpy as np\n",
        "import pandas as pd\n",
        "import seaborn as sns\n",
        "%matplotlib inline\n",
        "import re\n",
        "import warnings\n",
        "warnings.filterwarnings(\"ignore\")\n",
        "from tqdm import tqdm\n",
        "\n",
        "pd.set_option('display.max_columns', None)\n",
        "pd.set_option('display.max_colwidth', None)"
      ]
    },
    {
      "cell_type": "code",
      "source": [
        "from sklearn.feature_extraction.text import CountVectorizer\n",
        "from sklearn.metrics import roc_auc_score, roc_curve, confusion_matrix, precision_score, recall_score\n",
        "from sklearn.model_selection import train_test_split\n",
        "from sklearn.naive_bayes import MultinomialNB\n",
        "from sklearn.utils.multiclass import unique_labels"
      ],
      "metadata": {
        "id": "88BPmR9KVl6p"
      },
      "execution_count": null,
      "outputs": []
    },
    {
      "cell_type": "markdown",
      "metadata": {
        "id": "snMOnwyvJ3F7"
      },
      "source": [
        "### Loading The Dataset"
      ]
    },
    {
      "cell_type": "markdown",
      "source": [
        "Data set obtained from google datasets https://datasetsearch.research.google.com/search?src=0&query=spam%20classification&docid=L2cvMTFtamY2Z3Zscg%3D%3D"
      ],
      "metadata": {
        "id": "MSNe9c0dOmlg"
      }
    },
    {
      "cell_type": "code",
      "source": [
        "import requests\n",
        "\n",
        "url = 'https://raw.githubusercontent.com/Mai-CS/Deep-Convolutional-Forest/main/processed_spam.csv'\n",
        "response = requests.get(url)\n",
        "\n",
        "with open('processed_spam.csv', 'wb') as file:\n",
        "    file.write(response.content)\n",
        "\n",
        "print(\"Download complete.\")\n",
        "data = pd.read_csv('processed_spam.csv')"
      ],
      "metadata": {
        "colab": {
          "base_uri": "https://localhost:8080/"
        },
        "id": "4ItY1s7vKuRj",
        "outputId": "f3bfcd07-0ab8-42a8-ca01-c46939a5c4cb"
      },
      "execution_count": null,
      "outputs": [
        {
          "output_type": "stream",
          "name": "stdout",
          "text": [
            "Download complete.\n"
          ]
        }
      ]
    },
    {
      "cell_type": "code",
      "execution_count": null,
      "metadata": {
        "colab": {
          "base_uri": "https://localhost:8080/",
          "height": 363
        },
        "id": "hQbd7VpMJ3F-",
        "outputId": "98d08798-f8e8-4508-ec19-6131173886b6"
      },
      "outputs": [
        {
          "output_type": "execute_result",
          "data": {
            "text/plain": [
              "      Label  \\\n",
              "5561      0   \n",
              "5562      0   \n",
              "5563      0   \n",
              "5564      0   \n",
              "5565      1   \n",
              "5566      1   \n",
              "5567      0   \n",
              "5568      0   \n",
              "5569      0   \n",
              "5570      0   \n",
              "\n",
              "                                                                                                                                                                Message  \n",
              "5561                                                                   Ok lor... Sony ericsson salesman... I ask shuhui then she say quite gd 2 use so i considering...  \n",
              "5562                                                                                                                                                Ard 6 like dat lor.  \n",
              "5563                                                                                                Why don't you wait 'til at least wednesday to see if you get your .  \n",
              "5564                                                                                                                                                       Huh y lei...  \n",
              "5565                REMINDER FROM O2: To get 2.50 pounds free call credit and details of great offers pls reply 2 this text with your valid name, house no and postcode  \n",
              "5566  This is the 2nd time we have tried 2 contact u. U have won the å£750 Pound prize. 2 claim is easy, call 087187272008 NOW1! Only 10p per minute. BT-national-rate.  \n",
              "5567                                                                                                                              Will Ì_ b going to esplanade fr home?  \n",
              "5568                                                                                                          Pity, * was in mood for that. So...any other suggestions?  \n",
              "5569                                      The guy did some bitching but I acted like i'd be interested in buying something else next week and he gave it to us for free  \n",
              "5570                                                                                                                                         Rofl. Its true to its name  "
            ],
            "text/html": [
              "\n",
              "  <div id=\"df-2acba383-d31f-4082-9c19-50d500cfb68a\" class=\"colab-df-container\">\n",
              "    <div>\n",
              "<style scoped>\n",
              "    .dataframe tbody tr th:only-of-type {\n",
              "        vertical-align: middle;\n",
              "    }\n",
              "\n",
              "    .dataframe tbody tr th {\n",
              "        vertical-align: top;\n",
              "    }\n",
              "\n",
              "    .dataframe thead th {\n",
              "        text-align: right;\n",
              "    }\n",
              "</style>\n",
              "<table border=\"1\" class=\"dataframe\">\n",
              "  <thead>\n",
              "    <tr style=\"text-align: right;\">\n",
              "      <th></th>\n",
              "      <th>Label</th>\n",
              "      <th>Message</th>\n",
              "    </tr>\n",
              "  </thead>\n",
              "  <tbody>\n",
              "    <tr>\n",
              "      <th>5561</th>\n",
              "      <td>0</td>\n",
              "      <td>Ok lor... Sony ericsson salesman... I ask shuhui then she say quite gd 2 use so i considering...</td>\n",
              "    </tr>\n",
              "    <tr>\n",
              "      <th>5562</th>\n",
              "      <td>0</td>\n",
              "      <td>Ard 6 like dat lor.</td>\n",
              "    </tr>\n",
              "    <tr>\n",
              "      <th>5563</th>\n",
              "      <td>0</td>\n",
              "      <td>Why don't you wait 'til at least wednesday to see if you get your .</td>\n",
              "    </tr>\n",
              "    <tr>\n",
              "      <th>5564</th>\n",
              "      <td>0</td>\n",
              "      <td>Huh y lei...</td>\n",
              "    </tr>\n",
              "    <tr>\n",
              "      <th>5565</th>\n",
              "      <td>1</td>\n",
              "      <td>REMINDER FROM O2: To get 2.50 pounds free call credit and details of great offers pls reply 2 this text with your valid name, house no and postcode</td>\n",
              "    </tr>\n",
              "    <tr>\n",
              "      <th>5566</th>\n",
              "      <td>1</td>\n",
              "      <td>This is the 2nd time we have tried 2 contact u. U have won the å£750 Pound prize. 2 claim is easy, call 087187272008 NOW1! Only 10p per minute. BT-national-rate.</td>\n",
              "    </tr>\n",
              "    <tr>\n",
              "      <th>5567</th>\n",
              "      <td>0</td>\n",
              "      <td>Will Ì_ b going to esplanade fr home?</td>\n",
              "    </tr>\n",
              "    <tr>\n",
              "      <th>5568</th>\n",
              "      <td>0</td>\n",
              "      <td>Pity, * was in mood for that. So...any other suggestions?</td>\n",
              "    </tr>\n",
              "    <tr>\n",
              "      <th>5569</th>\n",
              "      <td>0</td>\n",
              "      <td>The guy did some bitching but I acted like i'd be interested in buying something else next week and he gave it to us for free</td>\n",
              "    </tr>\n",
              "    <tr>\n",
              "      <th>5570</th>\n",
              "      <td>0</td>\n",
              "      <td>Rofl. Its true to its name</td>\n",
              "    </tr>\n",
              "  </tbody>\n",
              "</table>\n",
              "</div>\n",
              "    <div class=\"colab-df-buttons\">\n",
              "\n",
              "  <div class=\"colab-df-container\">\n",
              "    <button class=\"colab-df-convert\" onclick=\"convertToInteractive('df-2acba383-d31f-4082-9c19-50d500cfb68a')\"\n",
              "            title=\"Convert this dataframe to an interactive table.\"\n",
              "            style=\"display:none;\">\n",
              "\n",
              "  <svg xmlns=\"http://www.w3.org/2000/svg\" height=\"24px\" viewBox=\"0 -960 960 960\">\n",
              "    <path d=\"M120-120v-720h720v720H120Zm60-500h600v-160H180v160Zm220 220h160v-160H400v160Zm0 220h160v-160H400v160ZM180-400h160v-160H180v160Zm440 0h160v-160H620v160ZM180-180h160v-160H180v160Zm440 0h160v-160H620v160Z\"/>\n",
              "  </svg>\n",
              "    </button>\n",
              "\n",
              "  <style>\n",
              "    .colab-df-container {\n",
              "      display:flex;\n",
              "      gap: 12px;\n",
              "    }\n",
              "\n",
              "    .colab-df-convert {\n",
              "      background-color: #E8F0FE;\n",
              "      border: none;\n",
              "      border-radius: 50%;\n",
              "      cursor: pointer;\n",
              "      display: none;\n",
              "      fill: #1967D2;\n",
              "      height: 32px;\n",
              "      padding: 0 0 0 0;\n",
              "      width: 32px;\n",
              "    }\n",
              "\n",
              "    .colab-df-convert:hover {\n",
              "      background-color: #E2EBFA;\n",
              "      box-shadow: 0px 1px 2px rgba(60, 64, 67, 0.3), 0px 1px 3px 1px rgba(60, 64, 67, 0.15);\n",
              "      fill: #174EA6;\n",
              "    }\n",
              "\n",
              "    .colab-df-buttons div {\n",
              "      margin-bottom: 4px;\n",
              "    }\n",
              "\n",
              "    [theme=dark] .colab-df-convert {\n",
              "      background-color: #3B4455;\n",
              "      fill: #D2E3FC;\n",
              "    }\n",
              "\n",
              "    [theme=dark] .colab-df-convert:hover {\n",
              "      background-color: #434B5C;\n",
              "      box-shadow: 0px 1px 3px 1px rgba(0, 0, 0, 0.15);\n",
              "      filter: drop-shadow(0px 1px 2px rgba(0, 0, 0, 0.3));\n",
              "      fill: #FFFFFF;\n",
              "    }\n",
              "  </style>\n",
              "\n",
              "    <script>\n",
              "      const buttonEl =\n",
              "        document.querySelector('#df-2acba383-d31f-4082-9c19-50d500cfb68a button.colab-df-convert');\n",
              "      buttonEl.style.display =\n",
              "        google.colab.kernel.accessAllowed ? 'block' : 'none';\n",
              "\n",
              "      async function convertToInteractive(key) {\n",
              "        const element = document.querySelector('#df-2acba383-d31f-4082-9c19-50d500cfb68a');\n",
              "        const dataTable =\n",
              "          await google.colab.kernel.invokeFunction('convertToInteractive',\n",
              "                                                    [key], {});\n",
              "        if (!dataTable) return;\n",
              "\n",
              "        const docLinkHtml = 'Like what you see? Visit the ' +\n",
              "          '<a target=\"_blank\" href=https://colab.research.google.com/notebooks/data_table.ipynb>data table notebook</a>'\n",
              "          + ' to learn more about interactive tables.';\n",
              "        element.innerHTML = '';\n",
              "        dataTable['output_type'] = 'display_data';\n",
              "        await google.colab.output.renderOutput(dataTable, element);\n",
              "        const docLink = document.createElement('div');\n",
              "        docLink.innerHTML = docLinkHtml;\n",
              "        element.appendChild(docLink);\n",
              "      }\n",
              "    </script>\n",
              "  </div>\n",
              "\n",
              "\n",
              "<div id=\"df-94b02019-5c6c-43c2-8312-cfd53b6ec00f\">\n",
              "  <button class=\"colab-df-quickchart\" onclick=\"quickchart('df-94b02019-5c6c-43c2-8312-cfd53b6ec00f')\"\n",
              "            title=\"Suggest charts\"\n",
              "            style=\"display:none;\">\n",
              "\n",
              "<svg xmlns=\"http://www.w3.org/2000/svg\" height=\"24px\"viewBox=\"0 0 24 24\"\n",
              "     width=\"24px\">\n",
              "    <g>\n",
              "        <path d=\"M19 3H5c-1.1 0-2 .9-2 2v14c0 1.1.9 2 2 2h14c1.1 0 2-.9 2-2V5c0-1.1-.9-2-2-2zM9 17H7v-7h2v7zm4 0h-2V7h2v10zm4 0h-2v-4h2v4z\"/>\n",
              "    </g>\n",
              "</svg>\n",
              "  </button>\n",
              "\n",
              "<style>\n",
              "  .colab-df-quickchart {\n",
              "      --bg-color: #E8F0FE;\n",
              "      --fill-color: #1967D2;\n",
              "      --hover-bg-color: #E2EBFA;\n",
              "      --hover-fill-color: #174EA6;\n",
              "      --disabled-fill-color: #AAA;\n",
              "      --disabled-bg-color: #DDD;\n",
              "  }\n",
              "\n",
              "  [theme=dark] .colab-df-quickchart {\n",
              "      --bg-color: #3B4455;\n",
              "      --fill-color: #D2E3FC;\n",
              "      --hover-bg-color: #434B5C;\n",
              "      --hover-fill-color: #FFFFFF;\n",
              "      --disabled-bg-color: #3B4455;\n",
              "      --disabled-fill-color: #666;\n",
              "  }\n",
              "\n",
              "  .colab-df-quickchart {\n",
              "    background-color: var(--bg-color);\n",
              "    border: none;\n",
              "    border-radius: 50%;\n",
              "    cursor: pointer;\n",
              "    display: none;\n",
              "    fill: var(--fill-color);\n",
              "    height: 32px;\n",
              "    padding: 0;\n",
              "    width: 32px;\n",
              "  }\n",
              "\n",
              "  .colab-df-quickchart:hover {\n",
              "    background-color: var(--hover-bg-color);\n",
              "    box-shadow: 0 1px 2px rgba(60, 64, 67, 0.3), 0 1px 3px 1px rgba(60, 64, 67, 0.15);\n",
              "    fill: var(--button-hover-fill-color);\n",
              "  }\n",
              "\n",
              "  .colab-df-quickchart-complete:disabled,\n",
              "  .colab-df-quickchart-complete:disabled:hover {\n",
              "    background-color: var(--disabled-bg-color);\n",
              "    fill: var(--disabled-fill-color);\n",
              "    box-shadow: none;\n",
              "  }\n",
              "\n",
              "  .colab-df-spinner {\n",
              "    border: 2px solid var(--fill-color);\n",
              "    border-color: transparent;\n",
              "    border-bottom-color: var(--fill-color);\n",
              "    animation:\n",
              "      spin 1s steps(1) infinite;\n",
              "  }\n",
              "\n",
              "  @keyframes spin {\n",
              "    0% {\n",
              "      border-color: transparent;\n",
              "      border-bottom-color: var(--fill-color);\n",
              "      border-left-color: var(--fill-color);\n",
              "    }\n",
              "    20% {\n",
              "      border-color: transparent;\n",
              "      border-left-color: var(--fill-color);\n",
              "      border-top-color: var(--fill-color);\n",
              "    }\n",
              "    30% {\n",
              "      border-color: transparent;\n",
              "      border-left-color: var(--fill-color);\n",
              "      border-top-color: var(--fill-color);\n",
              "      border-right-color: var(--fill-color);\n",
              "    }\n",
              "    40% {\n",
              "      border-color: transparent;\n",
              "      border-right-color: var(--fill-color);\n",
              "      border-top-color: var(--fill-color);\n",
              "    }\n",
              "    60% {\n",
              "      border-color: transparent;\n",
              "      border-right-color: var(--fill-color);\n",
              "    }\n",
              "    80% {\n",
              "      border-color: transparent;\n",
              "      border-right-color: var(--fill-color);\n",
              "      border-bottom-color: var(--fill-color);\n",
              "    }\n",
              "    90% {\n",
              "      border-color: transparent;\n",
              "      border-bottom-color: var(--fill-color);\n",
              "    }\n",
              "  }\n",
              "</style>\n",
              "\n",
              "  <script>\n",
              "    async function quickchart(key) {\n",
              "      const quickchartButtonEl =\n",
              "        document.querySelector('#' + key + ' button');\n",
              "      quickchartButtonEl.disabled = true;  // To prevent multiple clicks.\n",
              "      quickchartButtonEl.classList.add('colab-df-spinner');\n",
              "      try {\n",
              "        const charts = await google.colab.kernel.invokeFunction(\n",
              "            'suggestCharts', [key], {});\n",
              "      } catch (error) {\n",
              "        console.error('Error during call to suggestCharts:', error);\n",
              "      }\n",
              "      quickchartButtonEl.classList.remove('colab-df-spinner');\n",
              "      quickchartButtonEl.classList.add('colab-df-quickchart-complete');\n",
              "    }\n",
              "    (() => {\n",
              "      let quickchartButtonEl =\n",
              "        document.querySelector('#df-94b02019-5c6c-43c2-8312-cfd53b6ec00f button');\n",
              "      quickchartButtonEl.style.display =\n",
              "        google.colab.kernel.accessAllowed ? 'block' : 'none';\n",
              "    })();\n",
              "  </script>\n",
              "</div>\n",
              "\n",
              "    </div>\n",
              "  </div>\n"
            ],
            "application/vnd.google.colaboratory.intrinsic+json": {
              "type": "dataframe",
              "summary": "{\n  \"name\": \"data\",\n  \"rows\": 10,\n  \"fields\": [\n    {\n      \"column\": \"Label\",\n      \"properties\": {\n        \"dtype\": \"number\",\n        \"std\": 0,\n        \"min\": 0,\n        \"max\": 1,\n        \"num_unique_values\": 2,\n        \"samples\": [\n          1,\n          0\n        ],\n        \"semantic_type\": \"\",\n        \"description\": \"\"\n      }\n    },\n    {\n      \"column\": \"Message\",\n      \"properties\": {\n        \"dtype\": \"string\",\n        \"num_unique_values\": 10,\n        \"samples\": [\n          \"The guy did some bitching but I acted like i'd be interested in buying something else next week and he gave it to us for free\",\n          \"Ard 6 like dat lor.\"\n        ],\n        \"semantic_type\": \"\",\n        \"description\": \"\"\n      }\n    }\n  ]\n}"
            }
          },
          "metadata": {},
          "execution_count": 196
        }
      ],
      "source": [
        "data.tail(10)[['Label', 'Message']]"
      ]
    },
    {
      "cell_type": "code",
      "execution_count": null,
      "metadata": {
        "colab": {
          "base_uri": "https://localhost:8080/",
          "height": 178
        },
        "id": "zNyjFo5rJ3GJ",
        "outputId": "d104acfb-8445-456c-a80a-5f6c231b615c"
      },
      "outputs": [
        {
          "output_type": "execute_result",
          "data": {
            "text/plain": [
              "Label\n",
              "0    4824\n",
              "1     747\n",
              "Name: count, dtype: int64"
            ],
            "text/html": [
              "<div>\n",
              "<style scoped>\n",
              "    .dataframe tbody tr th:only-of-type {\n",
              "        vertical-align: middle;\n",
              "    }\n",
              "\n",
              "    .dataframe tbody tr th {\n",
              "        vertical-align: top;\n",
              "    }\n",
              "\n",
              "    .dataframe thead th {\n",
              "        text-align: right;\n",
              "    }\n",
              "</style>\n",
              "<table border=\"1\" class=\"dataframe\">\n",
              "  <thead>\n",
              "    <tr style=\"text-align: right;\">\n",
              "      <th></th>\n",
              "      <th>count</th>\n",
              "    </tr>\n",
              "    <tr>\n",
              "      <th>Label</th>\n",
              "      <th></th>\n",
              "    </tr>\n",
              "  </thead>\n",
              "  <tbody>\n",
              "    <tr>\n",
              "      <th>0</th>\n",
              "      <td>4824</td>\n",
              "    </tr>\n",
              "    <tr>\n",
              "      <th>1</th>\n",
              "      <td>747</td>\n",
              "    </tr>\n",
              "  </tbody>\n",
              "</table>\n",
              "</div><br><label><b>dtype:</b> int64</label>"
            ]
          },
          "metadata": {},
          "execution_count": 197
        }
      ],
      "source": [
        "# Count of Spam/No-Spam records\n",
        "\n",
        "data['Label'].value_counts()"
      ]
    },
    {
      "cell_type": "markdown",
      "source": [
        "Please note that data\n",
        "\n",
        "Label=0 mean NO-SPAM,\n",
        "\n",
        "while 1 means SPAM.\n",
        "\n",
        "The dataset is also mimicing the real scenerio, where spams(1) are usually lesser than non-spams(0)"
      ],
      "metadata": {
        "id": "tj93F8eJIlFO"
      }
    },
    {
      "cell_type": "markdown",
      "source": [
        "Note: The dataset is imbalanced, mean spam vs non-spam are not closely matching. This could bias the model towards higher no. of sample's side.\n",
        "\n",
        "Fot the moment we shall donwsample the dataset to make the quantities of both label equal.\n",
        "(There are other advanced techniques like SMOTE but as our core topic is NLP, we will not delve such techniques to distract out attention.)\n"
      ],
      "metadata": {
        "id": "cy692ZOrGHD5"
      }
    },
    {
      "cell_type": "code",
      "source": [
        "import pandas as pd\n",
        "\n",
        "# Assuming you have a DataFrame named 'data'\n",
        "minority_class_count = data['Label'].value_counts().min()\n",
        "\n",
        "# Create a new DataFrame with an equal number of samples from each class\n",
        "balanced_data = pd.concat([\n",
        "    data[data['Label'] == label].sample(minority_class_count, random_state=42)\n",
        "    for label in data['Label'].unique()\n",
        "])"
      ],
      "metadata": {
        "id": "n--R0TGMG8dX"
      },
      "execution_count": null,
      "outputs": []
    },
    {
      "cell_type": "code",
      "source": [
        "balanced_data['Label'].value_counts()"
      ],
      "metadata": {
        "colab": {
          "base_uri": "https://localhost:8080/",
          "height": 178
        },
        "id": "8GTLWfLcHcC6",
        "outputId": "3cca06f7-a9bb-4724-c826-28dfc4fabd57"
      },
      "execution_count": null,
      "outputs": [
        {
          "output_type": "execute_result",
          "data": {
            "text/plain": [
              "Label\n",
              "0    747\n",
              "1    747\n",
              "Name: count, dtype: int64"
            ],
            "text/html": [
              "<div>\n",
              "<style scoped>\n",
              "    .dataframe tbody tr th:only-of-type {\n",
              "        vertical-align: middle;\n",
              "    }\n",
              "\n",
              "    .dataframe tbody tr th {\n",
              "        vertical-align: top;\n",
              "    }\n",
              "\n",
              "    .dataframe thead th {\n",
              "        text-align: right;\n",
              "    }\n",
              "</style>\n",
              "<table border=\"1\" class=\"dataframe\">\n",
              "  <thead>\n",
              "    <tr style=\"text-align: right;\">\n",
              "      <th></th>\n",
              "      <th>count</th>\n",
              "    </tr>\n",
              "    <tr>\n",
              "      <th>Label</th>\n",
              "      <th></th>\n",
              "    </tr>\n",
              "  </thead>\n",
              "  <tbody>\n",
              "    <tr>\n",
              "      <th>0</th>\n",
              "      <td>747</td>\n",
              "    </tr>\n",
              "    <tr>\n",
              "      <th>1</th>\n",
              "      <td>747</td>\n",
              "    </tr>\n",
              "  </tbody>\n",
              "</table>\n",
              "</div><br><label><b>dtype:</b> int64</label>"
            ]
          },
          "metadata": {},
          "execution_count": 199
        }
      ]
    },
    {
      "cell_type": "code",
      "source": [
        "# dropping null values in 2 text columns\n",
        "data = balanced_data.dropna(subset=['ProcessedMessage', 'Message']).reset_index(drop=True)"
      ],
      "metadata": {
        "id": "fqHIExItMUXU"
      },
      "execution_count": null,
      "outputs": []
    },
    {
      "cell_type": "code",
      "source": [
        "data.info()"
      ],
      "metadata": {
        "colab": {
          "base_uri": "https://localhost:8080/"
        },
        "id": "ftge488IM9Dr",
        "outputId": "615e001d-61b3-4290-eb62-fb88def163c8"
      },
      "execution_count": null,
      "outputs": [
        {
          "output_type": "stream",
          "name": "stdout",
          "text": [
            "<class 'pandas.core.frame.DataFrame'>\n",
            "RangeIndex: 1492 entries, 0 to 1491\n",
            "Data columns (total 45 columns):\n",
            " #   Column                   Non-Null Count  Dtype  \n",
            "---  ------                   --------------  -----  \n",
            " 0   Label                    1492 non-null   int64  \n",
            " 1   Message                  1492 non-null   object \n",
            " 2   ProcessedMessage         1492 non-null   object \n",
            " 3   characters_count         1492 non-null   int64  \n",
            " 4   words_count              1492 non-null   int64  \n",
            " 5   readability              1492 non-null   float64\n",
            " 6   misspelled_count         1492 non-null   int64  \n",
            " 7   emails_count             1492 non-null   int64  \n",
            " 8   phones_count             1492 non-null   int64  \n",
            " 9   is_currency_found        1492 non-null   int64  \n",
            " 10  call                     1492 non-null   int64  \n",
            " 11  å£                       1492 non-null   int64  \n",
            " 12  free                     1492 non-null   int64  \n",
            " 13  txt                      1492 non-null   int64  \n",
            " 14  text                     1492 non-null   int64  \n",
            " 15  mobile                   1492 non-null   int64  \n",
            " 16  stop                     1492 non-null   int64  \n",
            " 17  claim                    1492 non-null   int64  \n",
            " 18  reply                    1492 non-null   int64  \n",
            " 19  prize                    1492 non-null   int64  \n",
            " 20  get                      1492 non-null   int64  \n",
            " 21  tone                     1492 non-null   int64  \n",
            " 22  service                  1492 non-null   int64  \n",
            " 23  p                        1492 non-null   int64  \n",
            " 24  nokia                    1492 non-null   int64  \n",
            " 25  new                      1492 non-null   int64  \n",
            " 26  send                     1492 non-null   int64  \n",
            " 27  urgent                   1492 non-null   int64  \n",
            " 28  win                      1492 non-null   int64  \n",
            " 29  week                     1492 non-null   int64  \n",
            " 30  ('å£', 'prize')          1492 non-null   int64  \n",
            " 31  ('please', 'call')       1492 non-null   int64  \n",
            " 32  ('å£', 'cash')           1492 non-null   int64  \n",
            " 33  ('po', 'box')            1492 non-null   int64  \n",
            " 34  ('customer', 'service')  1492 non-null   int64  \n",
            " 35  ('p', 'per')             1492 non-null   int64  \n",
            " 36  ('guaranteed', 'call')   1492 non-null   int64  \n",
            " 37  ('call', 'landline')     1492 non-null   int64  \n",
            " 38  ('prize', 'guaranteed')  1492 non-null   int64  \n",
            " 39  ('win', 'å£')            1492 non-null   int64  \n",
            " 40  ip_count                 1492 non-null   int64  \n",
            " 41  urls_count               1492 non-null   int64  \n",
            " 42  url                      100 non-null    object \n",
            " 43  broken_url_count         1492 non-null   int64  \n",
            " 44  has_blacklist_url        1492 non-null   int64  \n",
            "dtypes: float64(1), int64(41), object(3)\n",
            "memory usage: 524.7+ KB\n"
          ]
        }
      ]
    },
    {
      "cell_type": "markdown",
      "metadata": {
        "id": "fv7uSnJoJ3GO"
      },
      "source": [
        "### **Import Libraries for Data Preparation**"
      ]
    },
    {
      "cell_type": "code",
      "execution_count": null,
      "metadata": {
        "id": "xL74QCoAJ3GP"
      },
      "outputs": [],
      "source": [
        "import nltk\n",
        "from nltk.corpus import stopwords\n",
        "from nltk.tokenize import word_tokenize\n",
        "from nltk.stem import WordNetLemmatizer\n",
        "from nltk.stem.snowball import SnowballStemmer\n",
        "from sklearn.feature_extraction.text import TfidfVectorizer\n",
        "from sklearn.model_selection import train_test_split\n",
        "from sklearn.naive_bayes import MultinomialNB\n",
        "from sklearn.metrics import accuracy_score, f1_score\n",
        "import re\n",
        "import matplotlib.pyplot as plt\n",
        "import seaborn as sns"
      ]
    },
    {
      "cell_type": "code",
      "execution_count": null,
      "metadata": {
        "colab": {
          "base_uri": "https://localhost:8080/"
        },
        "id": "qsOKebh9Kfpi",
        "outputId": "7032a1f6-e74e-4d97-8d22-1013241bd6f2"
      },
      "outputs": [
        {
          "output_type": "stream",
          "name": "stderr",
          "text": [
            "[nltk_data] Downloading package stopwords to /root/nltk_data...\n",
            "[nltk_data]   Package stopwords is already up-to-date!\n",
            "[nltk_data] Downloading package punkt to /root/nltk_data...\n",
            "[nltk_data]   Package punkt is already up-to-date!\n",
            "[nltk_data] Downloading package wordnet to /root/nltk_data...\n",
            "[nltk_data]   Package wordnet is already up-to-date!\n"
          ]
        },
        {
          "output_type": "execute_result",
          "data": {
            "text/plain": [
              "True"
            ]
          },
          "metadata": {},
          "execution_count": 203
        }
      ],
      "source": [
        "import nltk\n",
        "nltk.download('stopwords')\n",
        "nltk.download('punkt')\n",
        "nltk.download('wordnet')"
      ]
    },
    {
      "cell_type": "code",
      "execution_count": null,
      "metadata": {
        "id": "jvLi3YY9J3GP"
      },
      "outputs": [],
      "source": [
        "stemmer  = SnowballStemmer(language='english') #setup for english language\n",
        "stop_words = stopwords.words('english') # defining stop_words for english language\n",
        "lemmatizer = WordNetLemmatizer()"
      ]
    },
    {
      "cell_type": "code",
      "execution_count": null,
      "metadata": {
        "id": "x98AQhcvJ3GQ"
      },
      "outputs": [],
      "source": [
        "#function to create tokenizer\n",
        "def tokenize(text):\n",
        "    return [stemmer.stem(token) for token in word_tokenize(text)]"
      ]
    },
    {
      "cell_type": "code",
      "execution_count": null,
      "metadata": {
        "colab": {
          "base_uri": "https://localhost:8080/"
        },
        "id": "DB67Z8AoJ3GQ",
        "outputId": "f726a34c-924b-4975-b09c-2548ef952086"
      },
      "outputs": [
        {
          "output_type": "execute_result",
          "data": {
            "text/plain": [
              "['huggingfac', 'is', 'a', 'great', 'place', 'to', 'learn', 'data', 'scienc']"
            ]
          },
          "metadata": {},
          "execution_count": 206
        }
      ],
      "source": [
        "#  Lets test the tokenize function\n",
        "tokenize(\"Huggingface is a great place to learn data science\")"
      ]
    },
    {
      "cell_type": "markdown",
      "metadata": {
        "id": "CBSQ4iiDJ3GR"
      },
      "source": [
        "<a id=\"text-pre-processing\"></a>\n",
        "### Text Pre-processing\n",
        "\n",
        "The dataset has 1 text column which is the Phrase column. Now, let's process the text in the phrase column as follows.\n",
        "\n",
        "First, strip all punctuations and html tags and extract only the texts;\n",
        "\n",
        "Second, convert text to lowercase;\n",
        "\n",
        "Finally, convert all phrases to tokens that our model will use."
      ]
    },
    {
      "cell_type": "code",
      "execution_count": null,
      "metadata": {
        "id": "KXS2yRwZJ3GS"
      },
      "outputs": [],
      "source": [
        "# A basic text preprocessing function\n",
        "def data_preprocess(Phrase):\n",
        "    Phrase = re.sub(re.compile('<.*?>'), '', Phrase) #removing html tags if any\n",
        "    Phrase = re.sub('[^A-Za-z0-9]+', ' ', Phrase) #taking only words\n",
        "    Phrase = Phrase.lower()   # making all phrases lower case\n",
        "    tokens = nltk.word_tokenize(Phrase) # converts Phrases to tokens\n",
        "    Phrase = [word for word in tokens if word not in stop_words] #removing stop words\n",
        "    Phrase = [lemmatizer.lemmatize(word) for word in Phrase]   # lemmatization\n",
        "    Phrase = ' '.join(Phrase)  # join words in preprocessed Phrase\n",
        "\n",
        "    return Phrase"
      ]
    },
    {
      "cell_type": "code",
      "source": [
        "#using my own data cleaning instead of already available column\n",
        "data['Preprocessed_phrase'] = data['Message'].apply(data_preprocess)\n"
      ],
      "metadata": {
        "id": "Y9EtbykDcmAy"
      },
      "execution_count": null,
      "outputs": []
    },
    {
      "cell_type": "code",
      "source": [
        "X_train, X_test, y_train, y_test = train_test_split(\n",
        "    data['Preprocessed_phrase'],\n",
        "    #data['ProcessedMessage'],\n",
        "    data['Label'],\n",
        "    random_state=42,\n",
        "    stratify=data['Label'])\n"
      ],
      "metadata": {
        "id": "DZEP8YDpWGUd"
      },
      "execution_count": null,
      "outputs": []
    },
    {
      "cell_type": "markdown",
      "metadata": {
        "id": "585sHeWZJ3GB"
      },
      "source": [
        "<a id=\"exploratory-data-analysis-eda\"></a>\n",
        "### Exploratory Data Analysis EDA"
      ]
    },
    {
      "cell_type": "code",
      "execution_count": null,
      "metadata": {
        "colab": {
          "base_uri": "https://localhost:8080/"
        },
        "id": "VwpwD92YJ3GD",
        "outputId": "215cbe56-3817-42f7-bed3-10b2352676c9"
      },
      "outputs": [
        {
          "output_type": "stream",
          "name": "stdout",
          "text": [
            "train dataset:  (1119,)\n",
            "test dataset:  (373,)\n"
          ]
        }
      ],
      "source": [
        "# Checking the shape of all data\n",
        "print(\"train dataset: \",X_train.shape)\n",
        "print(\"test dataset: \",X_test.shape)\n"
      ]
    },
    {
      "cell_type": "code",
      "execution_count": null,
      "metadata": {
        "colab": {
          "base_uri": "https://localhost:8080/"
        },
        "id": "ULZugnkQJ3GF",
        "outputId": "d017a228-c280-46a1-b335-873c3d41901d"
      },
      "outputs": [
        {
          "output_type": "stream",
          "name": "stdout",
          "text": [
            "<class 'pandas.core.series.Series'>\n",
            "Index: 1119 entries, 900 to 599\n",
            "Series name: Preprocessed_phrase\n",
            "Non-Null Count  Dtype \n",
            "--------------  ----- \n",
            "1119 non-null   object\n",
            "dtypes: object(1)\n",
            "memory usage: 17.5+ KB\n"
          ]
        }
      ],
      "source": [
        "X_train.info()"
      ]
    },
    {
      "cell_type": "code",
      "source": [
        "# extract features\n",
        "vectorizer = CountVectorizer(binary=True).fit(X_train)   # for bow\n",
        "#vectorizer = CountVectorizer(ngram_range=(1, 1)).fit(X_train)   # for ngrams\n",
        "X_train_vectorized = vectorizer.transform(X_train)\n",
        "X_train_vectorized.toarray().shape"
      ],
      "metadata": {
        "colab": {
          "base_uri": "https://localhost:8080/"
        },
        "id": "l_rnoa1QYA5x",
        "outputId": "c45fa272-1386-4262-da8c-ebc102709cd6"
      },
      "execution_count": null,
      "outputs": [
        {
          "output_type": "execute_result",
          "data": {
            "text/plain": [
              "(1119, 3518)"
            ]
          },
          "metadata": {},
          "execution_count": 212
        }
      ]
    },
    {
      "cell_type": "code",
      "execution_count": null,
      "metadata": {
        "colab": {
          "base_uri": "https://localhost:8080/",
          "height": 74
        },
        "id": "tvJUeME8J3GS",
        "outputId": "323e616a-0f51-4a64-ea9d-b471f58005e2"
      },
      "outputs": [
        {
          "output_type": "execute_result",
          "data": {
            "text/plain": [
              "MultinomialNB()"
            ],
            "text/html": [
              "<style>#sk-container-id-7 {color: black;}#sk-container-id-7 pre{padding: 0;}#sk-container-id-7 div.sk-toggleable {background-color: white;}#sk-container-id-7 label.sk-toggleable__label {cursor: pointer;display: block;width: 100%;margin-bottom: 0;padding: 0.3em;box-sizing: border-box;text-align: center;}#sk-container-id-7 label.sk-toggleable__label-arrow:before {content: \"▸\";float: left;margin-right: 0.25em;color: #696969;}#sk-container-id-7 label.sk-toggleable__label-arrow:hover:before {color: black;}#sk-container-id-7 div.sk-estimator:hover label.sk-toggleable__label-arrow:before {color: black;}#sk-container-id-7 div.sk-toggleable__content {max-height: 0;max-width: 0;overflow: hidden;text-align: left;background-color: #f0f8ff;}#sk-container-id-7 div.sk-toggleable__content pre {margin: 0.2em;color: black;border-radius: 0.25em;background-color: #f0f8ff;}#sk-container-id-7 input.sk-toggleable__control:checked~div.sk-toggleable__content {max-height: 200px;max-width: 100%;overflow: auto;}#sk-container-id-7 input.sk-toggleable__control:checked~label.sk-toggleable__label-arrow:before {content: \"▾\";}#sk-container-id-7 div.sk-estimator input.sk-toggleable__control:checked~label.sk-toggleable__label {background-color: #d4ebff;}#sk-container-id-7 div.sk-label input.sk-toggleable__control:checked~label.sk-toggleable__label {background-color: #d4ebff;}#sk-container-id-7 input.sk-hidden--visually {border: 0;clip: rect(1px 1px 1px 1px);clip: rect(1px, 1px, 1px, 1px);height: 1px;margin: -1px;overflow: hidden;padding: 0;position: absolute;width: 1px;}#sk-container-id-7 div.sk-estimator {font-family: monospace;background-color: #f0f8ff;border: 1px dotted black;border-radius: 0.25em;box-sizing: border-box;margin-bottom: 0.5em;}#sk-container-id-7 div.sk-estimator:hover {background-color: #d4ebff;}#sk-container-id-7 div.sk-parallel-item::after {content: \"\";width: 100%;border-bottom: 1px solid gray;flex-grow: 1;}#sk-container-id-7 div.sk-label:hover label.sk-toggleable__label {background-color: #d4ebff;}#sk-container-id-7 div.sk-serial::before {content: \"\";position: absolute;border-left: 1px solid gray;box-sizing: border-box;top: 0;bottom: 0;left: 50%;z-index: 0;}#sk-container-id-7 div.sk-serial {display: flex;flex-direction: column;align-items: center;background-color: white;padding-right: 0.2em;padding-left: 0.2em;position: relative;}#sk-container-id-7 div.sk-item {position: relative;z-index: 1;}#sk-container-id-7 div.sk-parallel {display: flex;align-items: stretch;justify-content: center;background-color: white;position: relative;}#sk-container-id-7 div.sk-item::before, #sk-container-id-7 div.sk-parallel-item::before {content: \"\";position: absolute;border-left: 1px solid gray;box-sizing: border-box;top: 0;bottom: 0;left: 50%;z-index: -1;}#sk-container-id-7 div.sk-parallel-item {display: flex;flex-direction: column;z-index: 1;position: relative;background-color: white;}#sk-container-id-7 div.sk-parallel-item:first-child::after {align-self: flex-end;width: 50%;}#sk-container-id-7 div.sk-parallel-item:last-child::after {align-self: flex-start;width: 50%;}#sk-container-id-7 div.sk-parallel-item:only-child::after {width: 0;}#sk-container-id-7 div.sk-dashed-wrapped {border: 1px dashed gray;margin: 0 0.4em 0.5em 0.4em;box-sizing: border-box;padding-bottom: 0.4em;background-color: white;}#sk-container-id-7 div.sk-label label {font-family: monospace;font-weight: bold;display: inline-block;line-height: 1.2em;}#sk-container-id-7 div.sk-label-container {text-align: center;}#sk-container-id-7 div.sk-container {/* jupyter's `normalize.less` sets `[hidden] { display: none; }` but bootstrap.min.css set `[hidden] { display: none !important; }` so we also need the `!important` here to be able to override the default hidden behavior on the sphinx rendered scikit-learn.org. See: https://github.com/scikit-learn/scikit-learn/issues/21755 */display: inline-block !important;position: relative;}#sk-container-id-7 div.sk-text-repr-fallback {display: none;}</style><div id=\"sk-container-id-7\" class=\"sk-top-container\"><div class=\"sk-text-repr-fallback\"><pre>MultinomialNB()</pre><b>In a Jupyter environment, please rerun this cell to show the HTML representation or trust the notebook. <br />On GitHub, the HTML representation is unable to render, please try loading this page with nbviewer.org.</b></div><div class=\"sk-container\" hidden><div class=\"sk-item\"><div class=\"sk-estimator sk-toggleable\"><input class=\"sk-toggleable__control sk-hidden--visually\" id=\"sk-estimator-id-7\" type=\"checkbox\" checked><label for=\"sk-estimator-id-7\" class=\"sk-toggleable__label sk-toggleable__label-arrow\">MultinomialNB</label><div class=\"sk-toggleable__content\"><pre>MultinomialNB()</pre></div></div></div></div></div>"
            ]
          },
          "metadata": {},
          "execution_count": 213
        }
      ],
      "source": [
        "model = MultinomialNB()\n",
        "model.fit(X_train_vectorized, y_train)"
      ]
    },
    {
      "cell_type": "code",
      "execution_count": null,
      "metadata": {
        "colab": {
          "base_uri": "https://localhost:8080/"
        },
        "id": "B91GDD5ZJ3GT",
        "outputId": "208f4f9a-1840-444a-a70d-c7d7a6e27dfc"
      },
      "outputs": [
        {
          "output_type": "stream",
          "name": "stdout",
          "text": [
            "Accuracy: 94.10187667560321 %\n",
            "F1 Score:  94.10009553396081 %\n"
          ]
        }
      ],
      "source": [
        "y_pred = model.predict(vectorizer.transform(X_test))\n",
        "\n",
        "acc_bow = accuracy_score(y_pred, y_test)\n",
        "print(\"Accuracy:\", 100 * acc_bow, '%')\n",
        "\n",
        "f1_bow = f1_score(y_test, y_pred, average='weighted')\n",
        "print('F1 Score: ', 100 * f1_bow, '%')\n"
      ]
    },
    {
      "cell_type": "markdown",
      "source": [
        "Test Cases"
      ],
      "metadata": {
        "id": "PQ2L0wiAZefS"
      }
    },
    {
      "cell_type": "code",
      "source": [
        "model.predict(vectorizer.transform(\n",
        "    [\n",
        "        \"Thank you, ABC. Can you also share your LinkedIn profile? As you are a good at programming at pyhthon, would be willing to see your personal/college projects.\",\n",
        "        \"Hi y’all, We have a Job Openings in the positions of software engineer, IT officer at ABC Company.Kindly, send us your resume and the cover letter as soon as possible if you think you are an eligible candidate and meet the criteria.\",\n",
        "        \"Dear ABC, Congratulations! You have been selected as a SOftware Developer at XYZ Company. We were really happy to see your enthusiasm for this vision and mission. We are impressed with your background and we think you would make an excellent addition to the team.\",\n",
        "    ])\n",
        "            )"
      ],
      "metadata": {
        "colab": {
          "base_uri": "https://localhost:8080/"
        },
        "id": "mH0YTAA9ZKAb",
        "outputId": "a8febb34-55ba-4691-f729-31f75ebc5a50"
      },
      "execution_count": null,
      "outputs": [
        {
          "output_type": "execute_result",
          "data": {
            "text/plain": [
              "array([0, 0, 0])"
            ]
          },
          "metadata": {},
          "execution_count": 215
        }
      ]
    },
    {
      "cell_type": "code",
      "source": [
        "model.predict(vectorizer.transform(\n",
        "    [\n",
        "        \"congratulations, you became today's lucky winner\",           # non spam\n",
        "        \"1-month unlimited calls offer Activate now\",                 # non-spam\n",
        "        \"We at compnay XYZ wants your phonenumber for contacting later\", # spam\n",
        "    ])\n",
        "            )"
      ],
      "metadata": {
        "colab": {
          "base_uri": "https://localhost:8080/"
        },
        "id": "d21yA2VjZosG",
        "outputId": "03d79919-52ef-42e7-f199-c300e7e21ec0"
      },
      "execution_count": null,
      "outputs": [
        {
          "output_type": "execute_result",
          "data": {
            "text/plain": [
              "array([1, 1, 0])"
            ]
          },
          "metadata": {},
          "execution_count": 216
        }
      ]
    },
    {
      "cell_type": "markdown",
      "metadata": {
        "id": "hKpCENTnJ3Gc"
      },
      "source": [
        "**Let's plot a confusion matrix of this classifier to help understand how well our model performs and also to find out if there is a pattern in the classification errors.**"
      ]
    },
    {
      "cell_type": "code",
      "execution_count": null,
      "metadata": {
        "colab": {
          "base_uri": "https://localhost:8080/",
          "height": 314
        },
        "id": "YOLP8kZvJ3Gd",
        "outputId": "fd935b18-f7fe-497f-a437-3d22599fa25a"
      },
      "outputs": [
        {
          "output_type": "display_data",
          "data": {
            "text/plain": [
              "<Figure size 500x300 with 2 Axes>"
            ],
            "image/png": "[encoded data removed]"
          },
          "metadata": {}
        }
      ],
      "source": [
        "from sklearn.metrics import confusion_matrix, accuracy_score, f1_score\n",
        "y_pred = model.predict(vectorizer.transform(X_test))\n",
        "cm = confusion_matrix(y_test, y_pred)\n",
        "plt.figure(figsize=(5, 3))\n",
        "sns.heatmap(cm, annot=True, fmt='d')\n",
        "plt.title('Test Confusion Matrix')\n",
        "plt.show()"
      ]
    },
    {
      "cell_type": "markdown",
      "metadata": {
        "id": "Xu02R_3zJ3Ge"
      },
      "source": [
        "### Building a model with Naive Bayes' Term Frequency-Inverse Document Frequency (TFIDF)\n",
        "\n",
        "We will use this classifier to convert text data into TF-IDF vectors. This classifier will learn the relationship between TF-IDF vectors and their corresponding class labels."
      ]
    },
    {
      "cell_type": "code",
      "execution_count": null,
      "metadata": {
        "colab": {
          "base_uri": "https://localhost:8080/"
        },
        "id": "LGMjwuedJ3Gf",
        "outputId": "8f544021-fd63-47ee-b85d-5c1ba2daf29a"
      },
      "outputs": [
        {
          "output_type": "stream",
          "name": "stdout",
          "text": [
            "X_train_phrase_tfidf shape:  (1119, 3518)\n",
            "X_test_phrase_tfidf shape:  (373, 3518)\n"
          ]
        }
      ],
      "source": [
        "from sklearn.feature_extraction.text import TfidfVectorizer\n",
        "\n",
        "vectorizer = TfidfVectorizer()\n",
        "\n",
        "X_train_phrase_tfidf = vectorizer.fit_transform(X_train)\n",
        "X_test_phrase_tfidf = vectorizer.transform(X_test)\n",
        "\n",
        "print('X_train_phrase_tfidf shape: ', X_train_phrase_tfidf.shape)\n",
        "print('X_test_phrase_tfidf shape: ', X_test_phrase_tfidf.shape)"
      ]
    },
    {
      "cell_type": "code",
      "execution_count": null,
      "metadata": {
        "colab": {
          "base_uri": "https://localhost:8080/"
        },
        "id": "BzpionEZJ3Gg",
        "outputId": "59152312-4771-4561-c9d8-739932196cfe"
      },
      "outputs": [
        {
          "output_type": "stream",
          "name": "stdout",
          "text": [
            "Accuracy:  0.9463806970509383\n",
            "F1 Score:  0.9463783845450606\n"
          ]
        }
      ],
      "source": [
        "clf = MultinomialNB(alpha=1)\n",
        "clf.fit(X_train_phrase_tfidf, y_train)\n",
        "\n",
        "y_pred = clf.predict(X_test_phrase_tfidf)\n",
        "acc_tfidf_nb = accuracy_score(y_test, y_pred)\n",
        "f1_tfidf_nb = f1_score(y_test, y_pred, average='weighted')\n",
        "print('Accuracy: ', acc_tfidf_nb)\n",
        "print('F1 Score: ', f1_tfidf_nb)"
      ]
    },
    {
      "cell_type": "code",
      "execution_count": null,
      "metadata": {
        "colab": {
          "base_uri": "https://localhost:8080/",
          "height": 333
        },
        "id": "lEt6RTm5J3Gh",
        "outputId": "982c3551-762a-4332-a967-fa91e657b4b4"
      },
      "outputs": [
        {
          "output_type": "display_data",
          "data": {
            "text/plain": [
              "<Figure size 500x300 with 2 Axes>"
            ],
            "image/png": "[encoded data removed]"
          },
          "metadata": {}
        }
      ],
      "source": [
        "cm = confusion_matrix(y_test, y_pred)\n",
        "plt.figure(figsize=(5, 3))\n",
        "sns.heatmap(cm, annot=True, fmt='d')\n",
        "plt.title('Test Confusion Matrix')\n",
        "plt.xlabel('Predicted Labels')\n",
        "plt.ylabel('True Labels')\n",
        "plt.xlabel('Predicted Labels')\n",
        "plt.ylabel('True Labels')\n",
        "\n",
        "plt.show()"
      ]
    },
    {
      "cell_type": "markdown",
      "metadata": {
        "id": "qh0CIG62J3Gj"
      },
      "source": [
        "### Using Logistic Regression TFIDF Model"
      ]
    },
    {
      "cell_type": "code",
      "execution_count": null,
      "metadata": {
        "colab": {
          "base_uri": "https://localhost:8080/"
        },
        "id": "eUHld9CGJ3Gk",
        "outputId": "e5ec61e7-be5b-460a-ec45-bb3c59c6756b"
      },
      "outputs": [
        {
          "output_type": "stream",
          "name": "stdout",
          "text": [
            "Accuracy:  0.9517426273458445\n",
            "F1 Score:  0.9516794232452179\n"
          ]
        }
      ],
      "source": [
        "from sklearn.linear_model import LogisticRegression\n",
        "\n",
        "clf = LogisticRegression(penalty='l2')\n",
        "clf.fit(X_train_phrase_tfidf, y_train)\n",
        "\n",
        "y_pred = clf.predict(X_test_phrase_tfidf)\n",
        "acc_tfidf_lr = accuracy_score(y_test, y_pred)\n",
        "f1_tfidf_lr = f1_score(y_test, y_pred, average='weighted')\n",
        "print('Accuracy: ', acc_tfidf_lr)\n",
        "print('F1 Score: ', f1_tfidf_lr)"
      ]
    },
    {
      "cell_type": "code",
      "execution_count": null,
      "metadata": {
        "colab": {
          "base_uri": "https://localhost:8080/",
          "height": 333
        },
        "id": "k5BhPHgiJ3Gl",
        "outputId": "e1d425b4-2786-4b15-9ee7-a48ed0921d0e"
      },
      "outputs": [
        {
          "output_type": "display_data",
          "data": {
            "text/plain": [
              "<Figure size 500x300 with 2 Axes>"
            ],
            "image/png": "[encoded data removed]"
          },
          "metadata": {}
        }
      ],
      "source": [
        "from sklearn.metrics import confusion_matrix\n",
        "import matplotlib.pyplot as plt\n",
        "import seaborn as sns\n",
        "\n",
        "cm = confusion_matrix(y_test, y_pred)\n",
        "plt.figure(figsize=(5, 3))\n",
        "sns.heatmap(cm, annot=True, fmt='d')\n",
        "plt.title('Test Confusion Matrix')\n",
        "plt.xlabel('Predicted Labels')\n",
        "plt.ylabel('True Labels')\n",
        "plt.show()"
      ]
    },
    {
      "cell_type": "markdown",
      "metadata": {
        "id": "L78ESBYTJ3Gm"
      },
      "source": [
        "### Visualizing the three models on a Table"
      ]
    },
    {
      "cell_type": "code",
      "execution_count": null,
      "metadata": {
        "colab": {
          "base_uri": "https://localhost:8080/"
        },
        "id": "aPVI363wJ3Gn",
        "outputId": "d1b1df01-4208-4419-d61b-f0c5be0d0d0c"
      },
      "outputs": [
        {
          "output_type": "stream",
          "name": "stdout",
          "text": [
            "+------------+---------------------+--------------------+--------------------+\n",
            "| Vectorizer |        Model        |      Accuracy      |      f1-score      |\n",
            "+------------+---------------------+--------------------+--------------------+\n",
            "|    BOW     |     Naive Bayes     | 0.9410187667560321 | 0.9410009553396081 |\n",
            "|   TFIDF    |     Naive Bayes     | 0.9463806970509383 | 0.9463783845450606 |\n",
            "|   TFIDF    | Logistic Regression | 0.9517426273458445 | 0.9517426273458445 |\n",
            "+------------+---------------------+--------------------+--------------------+\n"
          ]
        }
      ],
      "source": [
        "from prettytable import PrettyTable\n",
        "\n",
        "x = PrettyTable()\n",
        "\n",
        "x.field_names = ['Vectorizer', 'Model', 'Accuracy', 'f1-score']\n",
        "x.add_row(['BOW', 'Naive Bayes', f'{acc_bow}', f'{f1_bow}'])\n",
        "x.add_row(['TFIDF', 'Naive Bayes', f'{acc_tfidf_nb}', f'{f1_tfidf_nb}'])\n",
        "x.add_row(['TFIDF', 'Logistic Regression', f'{acc_tfidf_lr}', f'{acc_tfidf_lr}'])\n",
        "print(x)"
      ]
    }
  ],
  "metadata": {
    "colab": {
      "provenance": []
    },
    "kaggle": {
      "accelerator": "none",
      "dataSources": [
        {
          "databundleVersionId": 32092,
          "sourceId": 3810,
          "sourceType": "competition"
        }
      ],
      "dockerImageVersionId": 30558,
      "isGpuEnabled": false,
      "isInternetEnabled": true,
      "language": "python",
      "sourceType": "notebook"
    },
    "kernelspec": {
      "display_name": "Python 3",
      "language": "python",
      "name": "python3"
    },
    "language_info": {
      "codemirror_mode": {
        "name": "ipython",
        "version": 3
      },
      "file_extension": ".py",
      "mimetype": "text/x-python",
      "name": "python",
      "nbconvert_exporter": "python",
      "pygments_lexer": "ipython3",
      "version": "3.10.12"
    }
  },
  "nbformat": 4,
  "nbformat_minor": 0
}